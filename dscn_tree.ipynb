{
  "nbformat": 4,
  "nbformat_minor": 0,
  "metadata": {
    "colab": {
      "provenance": [],
      "authorship_tag": "ABX9TyM6Zhk99UL0FMK2rGI2Hgql",
      "include_colab_link": true
    },
    "kernelspec": {
      "name": "python3",
      "display_name": "Python 3"
    },
    "language_info": {
      "name": "python"
    }
  },
  "cells": [
    {
      "cell_type": "markdown",
      "metadata": {
        "id": "view-in-github",
        "colab_type": "text"
      },
      "source": [
        "<a href=\"https://colab.research.google.com/github/mashrur-rahman-fahim/Machine_learning_projects/blob/main/dscn_tree.ipynb\" target=\"_parent\"><img src=\"https://colab.research.google.com/assets/colab-badge.svg\" alt=\"Open In Colab\"/></a>"
      ]
    },
    {
      "cell_type": "code",
      "execution_count": null,
      "metadata": {
        "id": "2CxXtCB3kpjj"
      },
      "outputs": [],
      "source": [
        "import numpy as np\n",
        "import matplotlib.pyplot as plt\n",
        "plt.style.use('ggplot')"
      ]
    },
    {
      "cell_type": "markdown",
      "source": [
        "## 2 -  Problem Statement\n",
        "\n",
        "Suppose you are starting a company that grows and sells wild mushrooms.\n",
        "- Since not all mushrooms are edible, you'd like to be able to tell whether a given mushroom is edible or poisonous based on it's physical attributes\n",
        "- You have some existing data that you can use for this task.\n",
        "\n",
        "Can you use the data to help you identify which mushrooms can be sold safely?\n",
        "\n",
        "Note: The dataset used is for illustrative purposes only. It is not meant to be a guide on identifying edible mushrooms."
      ],
      "metadata": {
        "id": "iKoOOjGulFn8"
      }
    },
    {
      "cell_type": "code",
      "source": [
        "X_train = np.array([[1,1,1],[1,0,1],[1,0,0],[1,0,0],[1,1,1],[0,1,1],[0,0,0],[1,0,1],[0,1,0],[1,0,0]])\n",
        "y_train = np.array([1,1,0,0,1,0,0,1,1,0])"
      ],
      "metadata": {
        "id": "vOK_vmqTk_sr"
      },
      "execution_count": null,
      "outputs": []
    },
    {
      "cell_type": "code",
      "source": [
        "def compute_entropy(y):\n",
        "  entropy=0\n",
        "  if len(y)==0:\n",
        "    return 0\n",
        "  p1=(sum(y==1))/(len(y))\n",
        "  if p1==0 or p1==1:\n",
        "    return 0\n",
        "  entropy=-p1*np.log2(p1)-(1-p1)*np.log2(1-p1)\n",
        "  return entropy"
      ],
      "metadata": {
        "id": "Vzx8jTLhmQli"
      },
      "execution_count": 11,
      "outputs": []
    },
    {
      "cell_type": "code",
      "source": [
        "print(compute_entropy(y_train))\n"
      ],
      "metadata": {
        "colab": {
          "base_uri": "https://localhost:8080/"
        },
        "id": "lZmA0Q8SuJ2J",
        "outputId": "67b04148-89ab-45cf-e999-5b9e4e8f5852"
      },
      "execution_count": 12,
      "outputs": [
        {
          "output_type": "stream",
          "name": "stdout",
          "text": [
            "1.0\n"
          ]
        }
      ]
    },
    {
      "cell_type": "code",
      "source": [
        "def split_dataset(x,node_ind,feature):\n",
        "  left_in=[]\n",
        "  right_in=[]\n",
        "  for i in node_ind:\n",
        "    if x[i,feature]==1:\n",
        "      left_in.append(i)\n",
        "    else:\n",
        "      right_in.append(i)\n",
        "  return left_in,right_in"
      ],
      "metadata": {
        "id": "IN5WeetGu-8_"
      },
      "execution_count": 8,
      "outputs": []
    },
    {
      "cell_type": "code",
      "source": [
        "root_indices = [0, 1, 2, 3, 4, 5, 6, 7, 8, 9]\n",
        "feature = 0\n",
        "\n",
        "left_indices, right_indices = split_dataset(X_train, root_indices, feature)\n",
        "\n",
        "print(\"Left indices: \", left_indices)\n",
        "print(\"Right indices: \", right_indices)"
      ],
      "metadata": {
        "colab": {
          "base_uri": "https://localhost:8080/"
        },
        "id": "rXKDzDLGv-3Q",
        "outputId": "32413df9-cf8e-43af-e437-313b5da5199e"
      },
      "execution_count": 10,
      "outputs": [
        {
          "output_type": "stream",
          "name": "stdout",
          "text": [
            "Left indices:  [0, 1, 2, 3, 4, 7, 9]\n",
            "Right indices:  [5, 6, 8]\n"
          ]
        }
      ]
    },
    {
      "cell_type": "code",
      "source": [
        "def compute_info_gain(x,y,node_ind,feature):\n",
        "  left_in,right_in=split_dataset(x,node_ind,feature)\n",
        "  w_l=len(left_in)/len(x)\n",
        "  w_r=len(right_in)/len(x)\n",
        "  return compute_entropy(y)-(w_l*compute_entropy(y[left_in])+w_r*compute_entropy(y[right_in]))\n",
        ""
      ],
      "metadata": {
        "id": "llQ2oN_0w6YP"
      },
      "execution_count": 13,
      "outputs": []
    },
    {
      "cell_type": "code",
      "source": [
        "info_gain0 = compute_info_gain(X_train, y_train, root_indices, feature=0)\n",
        "print(\"Information Gain from splitting the root on brown cap: \", info_gain0)\n",
        "\n",
        "info_gain1 = compute_info_gain(X_train, y_train, root_indices, feature=1)\n",
        "print(\"Information Gain from splitting the root on tapering stalk shape: \", info_gain1)\n",
        "\n",
        "info_gain2 = compute_info_gain(X_train, y_train, root_indices, feature=2)\n",
        "print(\"Information Gain from splitting the root on solitary: \", info_gain2)"
      ],
      "metadata": {
        "colab": {
          "base_uri": "https://localhost:8080/"
        },
        "id": "luTiLSeDyMlo",
        "outputId": "d532f585-bb3f-4315-d4d5-a11bfa1e4e13"
      },
      "execution_count": 15,
      "outputs": [
        {
          "output_type": "stream",
          "name": "stdout",
          "text": [
            "Information Gain from splitting the root on brown cap:  0.034851554559677034\n",
            "Information Gain from splitting the root on tapering stalk shape:  0.12451124978365313\n",
            "Information Gain from splitting the root on solitary:  0.2780719051126377\n"
          ]
        }
      ]
    },
    {
      "cell_type": "code",
      "source": [
        "def get_best_split(x,y,node_ind):\n",
        "  best_feature=-1\n",
        "  max_info_gain=0\n",
        "  for i in range(x.shape[1]):\n",
        "    info_gain=compute_info_gain(x,y,node_ind,i)\n",
        "    if info_gain>max_info_gain:\n",
        "      max_info_gain=info_gain\n",
        "      best_feature=i\n",
        "\n",
        "  return best_feature\n",
        "\n"
      ],
      "metadata": {
        "id": "B7YNa5WnyVFG"
      },
      "execution_count": 16,
      "outputs": []
    },
    {
      "cell_type": "code",
      "source": [
        "best_feature = get_best_split(X_train, y_train, root_indices)\n",
        "print(\"Best feature to split on: %d\" % best_feature)\n"
      ],
      "metadata": {
        "colab": {
          "base_uri": "https://localhost:8080/"
        },
        "id": "dLqs6lXcz_9_",
        "outputId": "80020bc3-de74-4814-bf16-78ab713d7e3c"
      },
      "execution_count": 18,
      "outputs": [
        {
          "output_type": "stream",
          "name": "stdout",
          "text": [
            "Best feature to split on: 2\n"
          ]
        }
      ]
    },
    {
      "cell_type": "code",
      "source": [],
      "metadata": {
        "id": "-MTfh9ijKn29"
      },
      "execution_count": null,
      "outputs": []
    }
  ]
}