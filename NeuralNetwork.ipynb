{
  "nbformat": 4,
  "nbformat_minor": 0,
  "metadata": {
    "colab": {
      "provenance": [],
      "authorship_tag": "ABX9TyOPEAh34jxECxA86WRq8wak",
      "include_colab_link": true
    },
    "kernelspec": {
      "name": "python3",
      "display_name": "Python 3"
    },
    "language_info": {
      "name": "python"
    }
  },
  "cells": [
    {
      "cell_type": "markdown",
      "metadata": {
        "id": "view-in-github",
        "colab_type": "text"
      },
      "source": [
        "<a href=\"https://colab.research.google.com/github/mashrur-rahman-fahim/Machine_learning_projects/blob/main/NeuralNetwork.ipynb\" target=\"_parent\"><img src=\"https://colab.research.google.com/assets/colab-badge.svg\" alt=\"Open In Colab\"/></a>"
      ]
    },
    {
      "cell_type": "markdown",
      "source": [
        "##General Template\n"
      ],
      "metadata": {
        "id": "4vt_JsRyMESv"
      }
    },
    {
      "cell_type": "code",
      "source": [
        "import torch\n",
        "import torch.nn as nn\n",
        "import torch.optim as optim\n",
        "\n",
        "# 1. Prepare dataset (x: inputs, y: targets)\n",
        "x = ...\n",
        "y = ...\n",
        "\n",
        "# 2. Define the model\n",
        "class YourModel(nn.Module):\n",
        "    def __init__(self):\n",
        "        super().__init__()\n",
        "        # Layers\n",
        "        self.layer1 = nn.Linear(input_size, hidden_size)\n",
        "        self.act1 = nn.ReLU()\n",
        "        self.layer2 = nn.Linear(hidden_size, output_size)\n",
        "\n",
        "    def forward(self, x):\n",
        "        x = self.layer1(x)\n",
        "        x = self.act1(x)\n",
        "        x = self.layer2(x)\n",
        "        return x\n",
        "\n",
        "model = YourModel()\n",
        "\n",
        "# 3. Define loss function and optimizer\n",
        "loss_fn = nn.MSELoss() or nn.CrossEntropyLoss()  # depends on the task\n",
        "optimizer = optim.SGD(model.parameters(), lr=0.01)\n",
        "\n",
        "# 4. Training loop\n",
        "for epoch in range(num_epochs):\n",
        "    y_pred = model(x)\n",
        "    loss = loss_fn(y_pred, y)\n",
        "\n",
        "    loss.backward()\n",
        "    optimizer.step()\n",
        "    optimizer.zero_grad()\n",
        "\n",
        "    if (epoch + 1) % 100 == 0:\n",
        "        print(f\"Epoch {epoch+1}, Loss: {loss.item():.4f}\")\n"
      ],
      "metadata": {
        "id": "BAg5QYHGMCn4"
      },
      "execution_count": null,
      "outputs": []
    }
  ]
}